{
 "cells": [
  {
   "cell_type": "markdown",
   "metadata": {},
   "source": [
    "### list Comprehension"
   ]
  },
  {
   "cell_type": "code",
   "execution_count": null,
   "metadata": {},
   "outputs": [],
   "source": [
    "# list comprehension will be used when we have to perform same set of operation \n",
    "# on every element of a list"
   ]
  },
  {
   "cell_type": "code",
   "execution_count": 7,
   "metadata": {},
   "outputs": [
    {
     "name": "stdout",
     "output_type": "stream",
     "text": [
      "['ad', 'ps', 'lo', 'ru']\n"
     ]
    }
   ],
   "source": [
    "l = ['abcd','pqrs','lmno','rstu']\n",
    "l1 = ['{}{}'.format(value[0],value[-1]) for value in l]\n",
    "print(l1)\n"
   ]
  },
  {
   "cell_type": "code",
   "execution_count": 10,
   "metadata": {},
   "outputs": [
    {
     "name": "stdout",
     "output_type": "stream",
     "text": [
      "['a', 'n', 'w', 'c', 'n']\n"
     ]
    }
   ],
   "source": [
    "l = [97,110,119,99,110]\n",
    "l1 = [chr(value) for value in l]\n",
    "print(l1)"
   ]
  },
  {
   "cell_type": "code",
   "execution_count": 134,
   "metadata": {},
   "outputs": [
    {
     "name": "stdout",
     "output_type": "stream",
     "text": [
      "[37, 47, 67, 73, 60]\n"
     ]
    }
   ],
   "source": [
    "import random\n",
    "l = [random.randint(10,100) for _ in range(5)]\n",
    "print(l)"
   ]
  },
  {
   "cell_type": "code",
   "execution_count": 138,
   "metadata": {},
   "outputs": [
    {
     "name": "stdout",
     "output_type": "stream",
     "text": [
      "[[1, 10, 100], [2, 20, 200], [3, 30, 300]]\n"
     ]
    }
   ],
   "source": [
    "l1 = [1,2,3]\n",
    "l2 = [10,20,30]\n",
    "l3 = [100,200,300]\n",
    "l = [list(i) for i in zip(l1,l2,l3)]\n",
    "print(l)"
   ]
  },
  {
   "cell_type": "code",
   "execution_count": 143,
   "metadata": {},
   "outputs": [
    {
     "name": "stdout",
     "output_type": "stream",
     "text": [
      "7.540989999999965\n"
     ]
    }
   ],
   "source": [
    "import timeit\n",
    "\n",
    "t = timeit.timeit(stmt = '''\n",
    "l=[]\n",
    "for value in range(1,10000000):\n",
    "    l.append(value**2)\n",
    "''',number=1)\n",
    "print(t)\n",
    "    "
   ]
  },
  {
   "cell_type": "code",
   "execution_count": 144,
   "metadata": {},
   "outputs": [
    {
     "name": "stdout",
     "output_type": "stream",
     "text": [
      "7.281614999999874\n"
     ]
    }
   ],
   "source": [
    "t = timeit.timeit(stmt='''\n",
    "l2 = [value**2 for value in range(1,10000000)]\n",
    "''',number=1) #number = number of times\n",
    "print(t)"
   ]
  },
  {
   "cell_type": "code",
   "execution_count": 152,
   "metadata": {},
   "outputs": [
    {
     "name": "stdout",
     "output_type": "stream",
     "text": [
      "['a', 'n', 'w', 'c', 'n', 'a', 'h']\n"
     ]
    }
   ],
   "source": [
    "l = [97,110,119,99,110,123,130,60]\n",
    "      #output   output based on condition       op based on else     iteration     filtering condition\n",
    "l1 = [chr(value) if ord('a') <= value <= ord('z') else chr(value-26) for value in l if value>=97]\n",
    "print(l1)"
   ]
  },
  {
   "cell_type": "code",
   "execution_count": 153,
   "metadata": {},
   "outputs": [
    {
     "name": "stdout",
     "output_type": "stream",
     "text": [
      "[(0, 100), (0, 101), (0, 102), (0, 103), (0, 104), (1, 100), (1, 101), (1, 102), (1, 103), (1, 104), (2, 100), (2, 101), (2, 102), (2, 103), (2, 104), (3, 100), (3, 101), (3, 102), (3, 103), (3, 104), (4, 100), (4, 101), (4, 102), (4, 103), (4, 104)]\n"
     ]
    }
   ],
   "source": [
    "                    # outer loop              #inner loop\n",
    "l = [(value1,value2) for value1 in range(5) for value2 in range(100,105)]\n",
    "print(l)"
   ]
  },
  {
   "cell_type": "code",
   "execution_count": 155,
   "metadata": {},
   "outputs": [
    {
     "name": "stdout",
     "output_type": "stream",
     "text": [
      "[1, 2, 3, 4, 5, 6, 7, 8, 9]\n"
     ]
    }
   ],
   "source": [
    "l = [[1,2,3],[4,5,6],[7,8,9]]\n",
    "l1 = [value2 for value1 in l for value2 in value1]\n",
    "print(l1)"
   ]
  },
  {
   "cell_type": "code",
   "execution_count": 162,
   "metadata": {},
   "outputs": [
    {
     "name": "stdout",
     "output_type": "stream",
     "text": [
      "[[1, 4, 7], [2, 5, 8], [3, 6, 9]]\n"
     ]
    }
   ],
   "source": [
    "l = [[1,2,3],[4,5,6],[7,8,9]]\n",
    "l1 = [list(i) for i in zip(l[0],l[1],l[2])]\n",
    "print(l1)"
   ]
  },
  {
   "cell_type": "code",
   "execution_count": 164,
   "metadata": {},
   "outputs": [
    {
     "name": "stdout",
     "output_type": "stream",
     "text": [
      "[[1, 4, 7], [2, 5, 8], [3, 6, 9], [100, 200, 300]]\n"
     ]
    }
   ],
   "source": [
    "l = [[1,2,3,100],[4,5,6,200],[7,8,9,300]]\n",
    "l1 = [[value[index] for value in l] for index in range(len(l[0]))]\n",
    "print(l1)"
   ]
  }
 ],
 "metadata": {
  "kernelspec": {
   "display_name": "Python 3",
   "language": "python",
   "name": "python3"
  },
  "language_info": {
   "codemirror_mode": {
    "name": "ipython",
    "version": 3
   },
   "file_extension": ".py",
   "mimetype": "text/x-python",
   "name": "python",
   "nbconvert_exporter": "python",
   "pygments_lexer": "ipython3",
   "version": "3.7.0"
  }
 },
 "nbformat": 4,
 "nbformat_minor": 2
}
