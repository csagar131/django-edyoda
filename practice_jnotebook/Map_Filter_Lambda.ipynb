{
 "cells": [
  {
   "cell_type": "markdown",
   "metadata": {},
   "source": [
    "### map,filter,lambda                   "
   ]
  },
  {
   "cell_type": "code",
   "execution_count": null,
   "metadata": {},
   "outputs": [],
   "source": [
    "#used when dealing with large amount of data"
   ]
  },
  {
   "cell_type": "code",
   "execution_count": null,
   "metadata": {},
   "outputs": [],
   "source": [
    "map(func object,iterable)"
   ]
  },
  {
   "cell_type": "code",
   "execution_count": 97,
   "metadata": {},
   "outputs": [
    {
     "name": "stdout",
     "output_type": "stream",
     "text": [
      "4.70000031782547e-06\n"
     ]
    }
   ],
   "source": [
    "import timeit\n",
    "t = timeit.timeit(stmt ='''\n",
    "def sqr(n):\n",
    "    return n*n\n",
    "l = [1,2,3,4,5]\n",
    "r = map(sqr,l)\n",
    "t = list(r)\n",
    "''',number=1)\n",
    "print(t)"
   ]
  },
  {
   "cell_type": "code",
   "execution_count": 7,
   "metadata": {},
   "outputs": [
    {
     "name": "stdout",
     "output_type": "stream",
     "text": [
      "<map object at 0x000001D18719D860>\n",
      "100\n",
      "[400, 900, 1600]\n"
     ]
    }
   ],
   "source": [
    "l = [10,20,30,40]\n",
    "def sqr(num1):\n",
    "    return num1 * num1\n",
    "\n",
    "m = map(sqr,l)\n",
    "print(m)\n",
    "print(next(m))\n",
    "print(list(m))\n",
    "# print(next(m))  StopIteration:  error"
   ]
  },
  {
   "cell_type": "code",
   "execution_count": 9,
   "metadata": {},
   "outputs": [
    {
     "name": "stdout",
     "output_type": "stream",
     "text": [
      "<map object at 0x000001D18725C438>\n",
      "[111, 222, 333]\n"
     ]
    }
   ],
   "source": [
    "l1 = [1,2,3]\n",
    "l2 = [10,20,30]\n",
    "l3 = [100,200,300]\n",
    "\n",
    "def add(num1,num2,num3):\n",
    "    return num1 +num2+num3\n",
    "\n",
    "m = map(add,l1,l2,l3)\n",
    "print(m)\n",
    "print(list(m))"
   ]
  },
  {
   "cell_type": "code",
   "execution_count": 11,
   "metadata": {},
   "outputs": [
    {
     "name": "stdout",
     "output_type": "stream",
     "text": [
      "<map object at 0x000001D18725C240>\n",
      "[True, True, False, True, False, True, False, True]\n"
     ]
    }
   ],
   "source": [
    "l1 = [10,20,25,30,35,40,45,50]\n",
    "\n",
    "def even(num):\n",
    "    if num % 2 == 0:\n",
    "        return True\n",
    "    return False\n",
    "\n",
    "m = map(even,l1)\n",
    "print(m)\n",
    "print(list(m))"
   ]
  },
  {
   "cell_type": "code",
   "execution_count": 13,
   "metadata": {},
   "outputs": [],
   "source": [
    "##filter"
   ]
  },
  {
   "cell_type": "code",
   "execution_count": 14,
   "metadata": {},
   "outputs": [
    {
     "name": "stdout",
     "output_type": "stream",
     "text": [
      "<filter object at 0x000001D18725C2B0>\n",
      "[10, 20, 30, 40, 50]\n"
     ]
    }
   ],
   "source": [
    "l1 = [10,20,25,30,35,40,45,50]\n",
    "\n",
    "def even(num):\n",
    "    if num % 2 == 0:\n",
    "        return True\n",
    "    return False\n",
    "\n",
    "f = filter(even,l1)\n",
    "print(f)\n",
    "print(list(f))"
   ]
  },
  {
   "cell_type": "code",
   "execution_count": 18,
   "metadata": {},
   "outputs": [
    {
     "name": "stdout",
     "output_type": "stream",
     "text": [
      "['ad', 'ps', 'xx', 'ag']\n"
     ]
    }
   ],
   "source": [
    "l1 = ['abcd','pqrs','xyxx','asdg']\n",
    "\n",
    "def fetch(s):\n",
    "    return s[0]+s[-1]\n",
    "\n",
    "m = map(fetch,l1)\n",
    "print(list(m))\n",
    "    "
   ]
  },
  {
   "cell_type": "code",
   "execution_count": 20,
   "metadata": {},
   "outputs": [
    {
     "name": "stdout",
     "output_type": "stream",
     "text": [
      "[6, 28]\n"
     ]
    }
   ],
   "source": [
    "l1 = [6,45,28,12,35,89]\n",
    "\n",
    "def perfect_num(num):\n",
    "    sm = 0\n",
    "    for i in range(1,num//2 + 1):\n",
    "        if num % i == 0:\n",
    "            sm+=i\n",
    "    if sm == num:\n",
    "        return True\n",
    "    return False\n",
    "\n",
    "f = filter(perfect_num,l1)\n",
    "print(list(f))"
   ]
  },
  {
   "cell_type": "code",
   "execution_count": 21,
   "metadata": {},
   "outputs": [
    {
     "name": "stdout",
     "output_type": "stream",
     "text": [
      "['ad', 'ps', 'xx', 'ag']\n"
     ]
    }
   ],
   "source": [
    "l1 = ['abcd','pqrs','xyxx','asdg']\n",
    "\n",
    "m = map(lambda s:s[0]+s[-1],l1)\n",
    "print(list(m))"
   ]
  },
  {
   "cell_type": "code",
   "execution_count": 26,
   "metadata": {},
   "outputs": [
    {
     "name": "stdout",
     "output_type": "stream",
     "text": [
      "[6, 28, 12]\n"
     ]
    }
   ],
   "source": [
    "l1 = [6,45,28,12,35,89]\n",
    "f = filter(lambda x:(x %2==0),l1)\n",
    "print(list(f))"
   ]
  },
  {
   "cell_type": "code",
   "execution_count": 27,
   "metadata": {},
   "outputs": [
    {
     "name": "stdout",
     "output_type": "stream",
     "text": [
      "True\n"
     ]
    }
   ],
   "source": [
    "char = 'a'\n",
    "f = lambda val:val in 'aeiou'\n",
    "print(f(char))\n"
   ]
  },
  {
   "cell_type": "code",
   "execution_count": 38,
   "metadata": {},
   "outputs": [
    {
     "name": "stdout",
     "output_type": "stream",
     "text": [
      "[(30, 3), (50, 8), (40, 15), (10, 20), (20, 30)]\n"
     ]
    }
   ],
   "source": [
    "t = [(10,20),(30,3),(20,30),(40,15),(50,8)]\n",
    "k = sorted(t,key=lambda x:x[1]) #sort on the basis of second number in tuple\n",
    "print(k)"
   ]
  }
 ],
 "metadata": {
  "kernelspec": {
   "display_name": "Python 3",
   "language": "python",
   "name": "python3"
  },
  "language_info": {
   "codemirror_mode": {
    "name": "ipython",
    "version": 3
   },
   "file_extension": ".py",
   "mimetype": "text/x-python",
   "name": "python",
   "nbconvert_exporter": "python",
   "pygments_lexer": "ipython3",
   "version": "3.7.0"
  }
 },
 "nbformat": 4,
 "nbformat_minor": 2
}
