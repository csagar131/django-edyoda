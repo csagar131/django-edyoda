{
 "cells": [
  {
   "cell_type": "code",
   "execution_count": null,
   "metadata": {},
   "outputs": [],
   "source": [
    "The goal of this program is to model a game of bowling. Given a series of input the program should output the players final\n",
    "score.\n",
    " \n",
    "Specification/Rules of Bowling\n",
    " \n",
    "Each game, or line of bowling, includes ten turns, or frames for the bowler.\n",
    " \n",
    "In each frame, the bowler gets up to two tries to knock down all the pins.\n",
    " \n",
    "If in two tries, he fails to knock them all down, his score for that frame is the total number of pins knocked down \n",
    "in his two tries.\n",
    " \n",
    "If in two tries he knocks them all down, this is called a spare and his score for the frame is ten plus the number\n",
    "of pins knocked down on his next throw (in his next turn).\n",
    "\n",
    "\n",
    "If on his first try in the frame he knocks down all the pins, \n",
    "this is called a strike. His turn is over, \n",
    "and his score for the frame is ten plus the simple total of the pins knocked down in his next two rolls.\n",
    " \n",
    "If he gets a spare or strike in the last (tenth) frame, the bowler gets to throw one or two more bonus balls, respectively.\n",
    "These bonus throws are taken as part of the same turn. If the bonus throws knock down all the pins,\n",
    "the process does not repeat: the bonus throws are only used to calculate the score of the final frame.\n",
    " \n",
    "The game score is the total of all frame scores.\n",
    " \n",
    "Example 1: Gutter balls (all zero)\n",
    "[0,0],[0,0],[0,0],[0,0],[0,0],[0,0],[0,0],[0,0],[0,0],[0,0]\n",
    "-> 0\n",
    " \n",
    "Example 2: All Threes\n",
    "[3,3],[3,3],[3,3],[3,3],[3,3],[3,3],[3,3],[3,3],[3,3],[3,3]\n",
    "-> 60\n",
    " \n",
    "Example 3: All Spares with first ball a 4\n",
    "[4,6],[4,6],[4,6],[4,6],[4,6],[4,6],[4,6],[4,6],[4,6],[4,6,4]\n",
    "-> 140\n",
    " \n",
    "Example 4: Nine Strikes followed by a gutter ball\n",
    "[10,0],[10,0],[10,0],[10,0],[10,0],[10,0],[10,0],[10,0],[10,0],[0,0]\n",
    "-> 240\n",
    " \n",
    "Example 5: Perfect Game\n",
    "[10,0],[10,0],[10,0],[10,0],[10,0],[10,0],[10,0],[10,0],[10,0],[10,10,10]\n",
    "-> 300"
   ]
  },
  {
   "cell_type": "code",
   "execution_count": 13,
   "metadata": {},
   "outputs": [
    {
     "name": "stdout",
     "output_type": "stream",
     "text": [
      "60\n",
      "134\n"
     ]
    }
   ],
   "source": [
    "def calc_total_score(lst):\n",
    "    sm = 0\n",
    "    for l in lst:\n",
    "        sm = sm + sum(l)    \n",
    "    return sm\n",
    "\n",
    "\n",
    "def case_spare(lst):\n",
    "    sm = 0\n",
    "    for l in range(len(lst)-1):\n",
    "        for value in range(len(lst[0])):\n",
    "            if lst[l][1] != 0:\n",
    "                sm = sm + lst[l][value]\n",
    "        sm = sm + lst[l+1][0]    \n",
    "    sm = sm + sum(lst[len(lst)-1])\n",
    "    return sm\n",
    "    \n",
    "    \n",
    "        \n",
    "        \n",
    "    \n",
    "        \n",
    "\n",
    "\n",
    "lst = [[3,3],[3,3],[3,3],[3,3],[3,3],[3,3],[3,3],[3,3],[3,3],[3,3]]\n",
    "lst1 = [[4,6],[4,6],[4,6],[4,6],[4,6],[4,6],[4,6],[4,6],[4,6],[4,4]]\n",
    "total= calc_total_score(lst)\n",
    "spare = case_spare(lst1) \n",
    "print(total)\n",
    "print(spare)"
   ]
  }
 ],
 "metadata": {
  "kernelspec": {
   "display_name": "Python 3",
   "language": "python",
   "name": "python3"
  },
  "language_info": {
   "codemirror_mode": {
    "name": "ipython",
    "version": 3
   },
   "file_extension": ".py",
   "mimetype": "text/x-python",
   "name": "python",
   "nbconvert_exporter": "python",
   "pygments_lexer": "ipython3",
   "version": "3.7.0"
  }
 },
 "nbformat": 4,
 "nbformat_minor": 2
}
