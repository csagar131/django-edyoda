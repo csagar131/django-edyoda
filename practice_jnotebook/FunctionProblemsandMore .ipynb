{
 "cells": [
  {
   "cell_type": "code",
   "execution_count": 3,
   "metadata": {},
   "outputs": [],
   "source": [
    "def vargFunc(*args):\n",
    "    print (type(args))"
   ]
  },
  {
   "cell_type": "code",
   "execution_count": 4,
   "metadata": {},
   "outputs": [
    {
     "name": "stdout",
     "output_type": "stream",
     "text": [
      "<class 'tuple'>\n"
     ]
    }
   ],
   "source": [
    "vargFunc(1,2,3,4)"
   ]
  },
  {
   "cell_type": "code",
   "execution_count": 5,
   "metadata": {},
   "outputs": [
    {
     "name": "stdout",
     "output_type": "stream",
     "text": [
      "<class 'tuple'>\n"
     ]
    }
   ],
   "source": [
    "vargFunc(4,5,6,7,78)"
   ]
  },
  {
   "cell_type": "markdown",
   "metadata": {},
   "source": [
    "### Problems related to functions\n",
    "* Call a function with multiple words\n",
    "* Return a string separated by spaces containing only the words of even length"
   ]
  },
  {
   "cell_type": "code",
   "execution_count": 14,
   "metadata": {},
   "outputs": [],
   "source": [
    "def evenWordsCollector(*args):\n",
    "    l = []\n",
    "    for word in args:\n",
    "        if ifWordEven(word):\n",
    "            l.append(word)\n",
    "    res = ' '.join(l)\n",
    "    return res\n",
    "            "
   ]
  },
  {
   "cell_type": "code",
   "execution_count": 15,
   "metadata": {},
   "outputs": [],
   "source": [
    "def ifWordEven(word):\n",
    "    if len(word) % 2 == 0:\n",
    "        return True\n",
    "    else:\n",
    "        return False"
   ]
  },
  {
   "cell_type": "code",
   "execution_count": 16,
   "metadata": {},
   "outputs": [
    {
     "data": {
      "text/plain": [
       "'abcd*jklm'"
      ]
     },
     "execution_count": 16,
     "metadata": {},
     "output_type": "execute_result"
    }
   ],
   "source": [
    "evenWordsCollector('abc','def','abcd','jklm')"
   ]
  },
  {
   "cell_type": "code",
   "execution_count": 11,
   "metadata": {},
   "outputs": [
    {
     "data": {
      "text/plain": [
       "True"
      ]
     },
     "execution_count": 11,
     "metadata": {},
     "output_type": "execute_result"
    }
   ],
   "source": [
    "ifWordEven('Hell')"
   ]
  },
  {
   "cell_type": "code",
   "execution_count": 17,
   "metadata": {},
   "outputs": [
    {
     "data": {
      "text/plain": [
       "'abcd*jklm*hjhj'"
      ]
     },
     "execution_count": 17,
     "metadata": {},
     "output_type": "execute_result"
    }
   ],
   "source": [
    "evenWordsCollector('abc','def','abcd','jklm','hjhj')"
   ]
  },
  {
   "cell_type": "markdown",
   "metadata": {},
   "source": [
    "### Problem Statement\n",
    "* Take Employee Data & put them in a list"
   ]
  },
  {
   "cell_type": "code",
   "execution_count": 21,
   "metadata": {},
   "outputs": [],
   "source": [
    "def createEmpData(list_emps, **kwargs):\n",
    "    list_emps.append(kwargs)"
   ]
  },
  {
   "cell_type": "code",
   "execution_count": 22,
   "metadata": {},
   "outputs": [],
   "source": [
    "list_emps = []\n",
    "\n",
    "createEmpData(list_emps, name='abc',age=20)"
   ]
  },
  {
   "cell_type": "code",
   "execution_count": 23,
   "metadata": {},
   "outputs": [
    {
     "data": {
      "text/plain": [
       "[{'name': 'abc', 'age': 20}]"
      ]
     },
     "execution_count": 23,
     "metadata": {},
     "output_type": "execute_result"
    }
   ],
   "source": [
    "list_emps"
   ]
  },
  {
   "cell_type": "code",
   "execution_count": 24,
   "metadata": {},
   "outputs": [],
   "source": [
    "createEmpData(list_emps, name='def',age=20,location='blore')"
   ]
  },
  {
   "cell_type": "code",
   "execution_count": 30,
   "metadata": {},
   "outputs": [
    {
     "data": {
      "text/plain": [
       "[{'name': 'abc', 'age': 20}, {'name': 'def', 'age': 20, 'location': 'blore'}]"
      ]
     },
     "execution_count": 30,
     "metadata": {},
     "output_type": "execute_result"
    }
   ],
   "source": [
    "list_emps"
   ]
  },
  {
   "cell_type": "code",
   "execution_count": 29,
   "metadata": {},
   "outputs": [
    {
     "data": {
      "text/plain": [
       "'abc'"
      ]
     },
     "execution_count": 29,
     "metadata": {},
     "output_type": "execute_result"
    }
   ],
   "source": [
    "list_emps"
   ]
  },
  {
   "cell_type": "code",
   "execution_count": 33,
   "metadata": {},
   "outputs": [],
   "source": [
    "createEmpData(list_emps, name='def',age=20,salary=100000)\n",
    "createEmpData(list_emps, name='def',age=20,salary=500000)"
   ]
  },
  {
   "cell_type": "code",
   "execution_count": 34,
   "metadata": {},
   "outputs": [
    {
     "data": {
      "text/plain": [
       "[{'name': 'abc', 'age': 20},\n",
       " {'name': 'def', 'age': 20, 'location': 'blore'},\n",
       " {'name': 'def', 'age': 20, 'salary': 100000},\n",
       " {'name': 'def', 'age': 20, 'salary': 100000},\n",
       " {'name': 'def', 'age': 20, 'salary': 500000}]"
      ]
     },
     "execution_count": 34,
     "metadata": {},
     "output_type": "execute_result"
    }
   ],
   "source": [
    "list_emps"
   ]
  },
  {
   "cell_type": "code",
   "execution_count": 35,
   "metadata": {},
   "outputs": [
    {
     "name": "stdout",
     "output_type": "stream",
     "text": [
      "{'name': 'def', 'age': 20, 'location': 'blore'}\n"
     ]
    }
   ],
   "source": [
    "for emp in list_emps:\n",
    "    if 'location' in emp:\n",
    "        print (emp)"
   ]
  },
  {
   "cell_type": "code",
   "execution_count": 39,
   "metadata": {},
   "outputs": [],
   "source": [
    "# Print folks whose salary is >= 100000\n",
    "def getPeopleSalary(list_emps,salary=50000):\n",
    "    res = []\n",
    "    for emp in list_emps:\n",
    "        if 'salary' in emp:\n",
    "            if emp['salary'] >= salary:\n",
    "                res.append(emp)\n",
    "    return res"
   ]
  },
  {
   "cell_type": "code",
   "execution_count": 40,
   "metadata": {},
   "outputs": [
    {
     "data": {
      "text/plain": [
       "[{'name': 'def', 'age': 20, 'salary': 100000},\n",
       " {'name': 'def', 'age': 20, 'salary': 100000},\n",
       " {'name': 'def', 'age': 20, 'salary': 500000}]"
      ]
     },
     "execution_count": 40,
     "metadata": {},
     "output_type": "execute_result"
    }
   ],
   "source": [
    "getPeopleSalary(list_emps,100000)"
   ]
  },
  {
   "cell_type": "markdown",
   "metadata": {},
   "source": [
    "### Problem\n",
    "1. Store students's marks information in a list\n",
    "   [{'name':'abc','maths':20,'eglish':30}, {}]\n",
    "2. Find topper in class\n",
    "\n",
    "#### Pseudo-Code\n",
    "1. AddStudent Function\n",
    "2. Calculate marks percentage\n",
    "2. Find Topper"
   ]
  },
  {
   "cell_type": "code",
   "execution_count": 43,
   "metadata": {},
   "outputs": [],
   "source": [
    "def createStudentData(list_students, **marks):\n",
    "    list_students.append(marks)"
   ]
  },
  {
   "cell_type": "code",
   "execution_count": 44,
   "metadata": {},
   "outputs": [],
   "source": [
    "list_students = []\n",
    "createStudentData(list_students,name='david',maths=80, science=75,english=76)\n",
    "createStudentData(list_students,name='rohit',maths=90, science=85,english=66)\n",
    "createStudentData(list_students,name='raj',maths=40, science=55,english=56)\n",
    "createStudentData(list_students,name='yazhini',maths=80, science=88,english=76)"
   ]
  },
  {
   "cell_type": "code",
   "execution_count": 45,
   "metadata": {},
   "outputs": [
    {
     "data": {
      "text/plain": [
       "[{'name': 'david', 'maths': 80, 'science': 75, 'english': 76},\n",
       " {'name': 'rohit', 'maths': 90, 'science': 85, 'english': 66},\n",
       " {'name': 'raj', 'maths': 40, 'science': 55, 'english': 56},\n",
       " {'name': 'yazhini', 'maths': 80, 'science': 88, 'english': 76}]"
      ]
     },
     "execution_count": 45,
     "metadata": {},
     "output_type": "execute_result"
    }
   ],
   "source": [
    "list_students"
   ]
  },
  {
   "cell_type": "code",
   "execution_count": 46,
   "metadata": {},
   "outputs": [],
   "source": [
    "def calcMarksAvg(list_students):\n",
    "    for student in list_students:\n",
    "        total_marks = 0\n",
    "        count = 0\n",
    "        for k,v in student.items():\n",
    "            if k != 'name':\n",
    "                total_marks += v\n",
    "                count += 1\n",
    "        student['avg'] = total_marks/count\n",
    "            "
   ]
  },
  {
   "cell_type": "code",
   "execution_count": 47,
   "metadata": {},
   "outputs": [],
   "source": [
    "calcMarksAvg(list_students)"
   ]
  },
  {
   "cell_type": "code",
   "execution_count": 48,
   "metadata": {},
   "outputs": [
    {
     "data": {
      "text/plain": [
       "[{'name': 'david', 'maths': 80, 'science': 75, 'english': 76, 'avg': 77.0},\n",
       " {'name': 'rohit',\n",
       "  'maths': 90,\n",
       "  'science': 85,\n",
       "  'english': 66,\n",
       "  'avg': 80.33333333333333},\n",
       " {'name': 'raj',\n",
       "  'maths': 40,\n",
       "  'science': 55,\n",
       "  'english': 56,\n",
       "  'avg': 50.333333333333336},\n",
       " {'name': 'yazhini',\n",
       "  'maths': 80,\n",
       "  'science': 88,\n",
       "  'english': 76,\n",
       "  'avg': 81.33333333333333}]"
      ]
     },
     "execution_count": 48,
     "metadata": {},
     "output_type": "execute_result"
    }
   ],
   "source": [
    "list_students"
   ]
  },
  {
   "cell_type": "code",
   "execution_count": 49,
   "metadata": {},
   "outputs": [
    {
     "name": "stdout",
     "output_type": "stream",
     "text": [
      "Help on built-in function max in module builtins:\n",
      "\n",
      "max(...)\n",
      "    max(iterable, *[, default=obj, key=func]) -> value\n",
      "    max(arg1, arg2, *args, *[, key=func]) -> value\n",
      "    \n",
      "    With a single iterable argument, return its biggest item. The\n",
      "    default keyword-only argument specifies an object to return if\n",
      "    the provided iterable is empty.\n",
      "    With two or more arguments, return the largest argument.\n",
      "\n"
     ]
    }
   ],
   "source": [
    "help(max)"
   ]
  },
  {
   "cell_type": "code",
   "execution_count": 55,
   "metadata": {},
   "outputs": [],
   "source": [
    "def findTopper(list_students):\n",
    "    def f(e):\n",
    "        return e['avg']\n",
    "\n",
    "    return max(list_students,key=f)"
   ]
  },
  {
   "cell_type": "code",
   "execution_count": 50,
   "metadata": {},
   "outputs": [],
   "source": [
    "l = [1,233,9]"
   ]
  },
  {
   "cell_type": "code",
   "execution_count": 51,
   "metadata": {},
   "outputs": [
    {
     "data": {
      "text/plain": [
       "233"
      ]
     },
     "execution_count": 51,
     "metadata": {},
     "output_type": "execute_result"
    }
   ],
   "source": [
    "max(l)"
   ]
  },
  {
   "cell_type": "code",
   "execution_count": 57,
   "metadata": {},
   "outputs": [
    {
     "data": {
      "text/plain": [
       "{'name': 'yazhini',\n",
       " 'maths': 80,\n",
       " 'science': 88,\n",
       " 'english': 76,\n",
       " 'avg': 81.33333333333333}"
      ]
     },
     "execution_count": 57,
     "metadata": {},
     "output_type": "execute_result"
    }
   ],
   "source": [
    "def f(e):\n",
    "    return e['avg']\n",
    "max(list_students,key=f)"
   ]
  },
  {
   "cell_type": "code",
   "execution_count": 58,
   "metadata": {},
   "outputs": [],
   "source": [
    "topper = findTopper(list_students)"
   ]
  },
  {
   "cell_type": "code",
   "execution_count": 59,
   "metadata": {},
   "outputs": [
    {
     "data": {
      "text/plain": [
       "'yazhini'"
      ]
     },
     "execution_count": 59,
     "metadata": {},
     "output_type": "execute_result"
    }
   ],
   "source": [
    "topper['name']"
   ]
  },
  {
   "cell_type": "code",
   "execution_count": 60,
   "metadata": {},
   "outputs": [
    {
     "data": {
      "text/plain": [
       "[{'name': 'raj',\n",
       "  'maths': 40,\n",
       "  'science': 55,\n",
       "  'english': 56,\n",
       "  'avg': 50.333333333333336},\n",
       " {'name': 'david', 'maths': 80, 'science': 75, 'english': 76, 'avg': 77.0},\n",
       " {'name': 'rohit',\n",
       "  'maths': 90,\n",
       "  'science': 85,\n",
       "  'english': 66,\n",
       "  'avg': 80.33333333333333},\n",
       " {'name': 'yazhini',\n",
       "  'maths': 80,\n",
       "  'science': 88,\n",
       "  'english': 76,\n",
       "  'avg': 81.33333333333333}]"
      ]
     },
     "execution_count": 60,
     "metadata": {},
     "output_type": "execute_result"
    }
   ],
   "source": [
    "sorted(list_students,key=f)"
   ]
  },
  {
   "cell_type": "code",
   "execution_count": null,
   "metadata": {},
   "outputs": [],
   "source": []
  }
 ],
 "metadata": {
  "kernelspec": {
   "display_name": "Python 3",
   "language": "python",
   "name": "python3"
  },
  "language_info": {
   "codemirror_mode": {
    "name": "ipython",
    "version": 3
   },
   "file_extension": ".py",
   "mimetype": "text/x-python",
   "name": "python",
   "nbconvert_exporter": "python",
   "pygments_lexer": "ipython3",
   "version": "3.7.3"
  }
 },
 "nbformat": 4,
 "nbformat_minor": 2
}
