{
 "cells": [
  {
   "cell_type": "code",
   "execution_count": 2,
   "metadata": {},
   "outputs": [],
   "source": [
    "a = 34; b=44 "
   ]
  },
  {
   "cell_type": "code",
   "execution_count": 4,
   "metadata": {},
   "outputs": [
    {
     "name": "stdout",
     "output_type": "stream",
     "text": [
      "34\n",
      "44\n"
     ]
    }
   ],
   "source": [
    "print(a);print(b)"
   ]
  },
  {
   "cell_type": "code",
   "execution_count": 6,
   "metadata": {},
   "outputs": [
    {
     "name": "stdout",
     "output_type": "stream",
     "text": [
      "Enter the rating1\n",
      "enter the bill amount100\n",
      "total bill amount\n",
      "110.0\n"
     ]
    }
   ],
   "source": [
    "r = int(input(\"Enter the rating:\"))\n",
    "bill = int(input(\"enter the bill amount:\"))\n",
    "tip =0\n",
    "if r == 1:\n",
    "    tip = bill * 10 / 100\n",
    "elif r == 2:\n",
    "    tip = bill * 20 / 100\n",
    "elif r == 3:\n",
    "    tip = bill * 30 / 100\n",
    "elif r == 4:\n",
    "    tip = bill * 40 / 100\n",
    "else:\n",
    "    tip = bill * 50 / 100\n",
    "    \n",
    "print(\"total bill amount:\")\n",
    "bill+=tip\n",
    "print(bill)\n",
    "    "
   ]
  },
  {
   "cell_type": "code",
   "execution_count": 14,
   "metadata": {},
   "outputs": [
    {
     "name": "stdout",
     "output_type": "stream",
     "text": [
      "['python', 'java', 'c', 'c++', 'r']\n",
      "['python', 'java', 'c', 'c++']\n"
     ]
    }
   ],
   "source": [
    "s = \"python,java,c,c++,r\"\n",
    "s1 = s.split(\",\")\n",
    "print(s1)\n",
    "s2 = s1[:]\n",
    "print(s2)"
   ]
  },
  {
   "cell_type": "code",
   "execution_count": 28,
   "metadata": {},
   "outputs": [
    {
     "name": "stdout",
     "output_type": "stream",
     "text": [
      "['a', 'a', 'a', 'b', 'b', 'b', 'b', 'b', 'd', 'd', 'd', 'd', 'd', 'd', 's', 's', 's', 's', 's', 's']\n",
      "6\n"
     ]
    }
   ],
   "source": [
    "s ='aaabbbddbbssssssdddd'\n",
    "s1 = sorted(s)\n",
    "print(s1)\n",
    "mx = 0\n",
    "c = 0\n",
    "for i in range(len(s1)-1):\n",
    "    c = 0\n",
    "    if s1[i] == s1[i+1]:\n",
    "        for j in range(len(s1)):\n",
    "            if s1[i] == s1[j]:\n",
    "                c+=1\n",
    "        if c > mx:\n",
    "            mx = c\n",
    "print(mx)"
   ]
  },
  {
   "cell_type": "code",
   "execution_count": 33,
   "metadata": {},
   "outputs": [
    {
     "data": {
      "text/plain": [
       "False"
      ]
     },
     "execution_count": 33,
     "metadata": {},
     "output_type": "execute_result"
    }
   ],
   "source": [
    "s = \"      f  \"\n",
    "s.isspace()"
   ]
  },
  {
   "cell_type": "code",
   "execution_count": 42,
   "metadata": {},
   "outputs": [
    {
     "name": "stdout",
     "output_type": "stream",
     "text": [
      "LEArnIng pythOn Is EAsy\n"
     ]
    }
   ],
   "source": [
    "s = \"Learning python is easy\"\n",
    "\n",
    "for i in s:\n",
    "    if i in \"AEIOUaeiou\":\n",
    "        s=s.replace(i,i.upper())\n",
    "print(s)"
   ]
  },
  {
   "cell_type": "code",
   "execution_count": 44,
   "metadata": {},
   "outputs": [
    {
     "data": {
      "text/plain": [
       "True"
      ]
     },
     "execution_count": 44,
     "metadata": {},
     "output_type": "execute_result"
    }
   ],
   "source": [
    "type(23.33) == float"
   ]
  },
  {
   "cell_type": "code",
   "execution_count": 1,
   "metadata": {},
   "outputs": [
    {
     "data": {
      "text/plain": [
       "90"
      ]
     },
     "execution_count": 1,
     "metadata": {},
     "output_type": "execute_result"
    }
   ],
   "source": [
    "ord('Z')"
   ]
  },
  {
   "cell_type": "code",
   "execution_count": 15,
   "metadata": {},
   "outputs": [],
   "source": [
    "# l1 = [[1,2,3],[4,5,6],[7,8,9],[10,11,12]]\n",
    "# l2 = [[100,200,300],[400,500,600],[700,800,900],[1000,1100,1200]]\n",
    "# l3 = []\n",
    "# for i in l1:\n",
    "#     for j in i:\n",
    "#         print(j)\n",
    "    \n",
    "    \n",
    "# print(l3)\n",
    "    \n",
    "               \n",
    "    \n",
    "        "
   ]
  },
  {
   "cell_type": "code",
   "execution_count": 19,
   "metadata": {},
   "outputs": [
    {
     "data": {
      "text/plain": [
       "1"
      ]
     },
     "execution_count": 19,
     "metadata": {},
     "output_type": "execute_result"
    }
   ],
   "source": [
    "s = 'afdddddaaaabbbbbddddeeeeeeeerr'\n",
    "s.count('f')"
   ]
  },
  {
   "cell_type": "code",
   "execution_count": 11,
   "metadata": {},
   "outputs": [
    {
     "name": "stdout",
     "output_type": "stream",
     "text": [
      "{1: 1, 2: 4, 3: 9, 4: 16, 5: 25, 6: 36, 7: 49, 8: 64, 9: 81, 10: 100, 11: 121, 12: 144, 13: 169, 14: 196, 15: 225, 16: 256, 17: 289, 18: 324, 19: 361, 20: 400}\n",
      "{1: 1, 2: 4, 3: 9, 4: 16, 5: 25, 6: 36, 7: 49, 8: 64, 9: 81, 10: 100, 11: 121, 12: 144, 13: 169, 14: 196, 15: 225, 16: 256, 17: 289, 18: 324, 19: 361, 20: 400}\n"
     ]
    }
   ],
   "source": [
    "d = {}\n",
    "for value in range(1,21):\n",
    "    d.setdefault(value,value*value)\n",
    "print(d)\n",
    "d.setdefault(4,500) #cannot update the value using setdefault\n",
    "print(d)"
   ]
  },
  {
   "cell_type": "code",
   "execution_count": 12,
   "metadata": {},
   "outputs": [
    {
     "name": "stdout",
     "output_type": "stream",
     "text": [
      "{1: 1, 2: 4, 3: 9, 4: 16, 5: 25, 6: 36, 7: 49, 8: 64, 9: 81, 10: 100, 11: 121, 12: 144, 13: 169, 14: 196, 15: 225, 16: 256, 17: 289, 18: 324, 19: 361, 20: 400}\n",
      "{1: 1, 2: 4, 3: 9, 4: 500, 5: 25, 6: 36, 7: 49, 8: 64, 9: 81, 10: 100, 11: 121, 12: 144, 13: 169, 14: 196, 15: 225, 16: 256, 17: 289, 18: 324, 19: 361, 20: 400}\n"
     ]
    }
   ],
   "source": [
    "d = {}\n",
    "for value in range(1,21):\n",
    "    d[value] = value*value\n",
    "print(d)\n",
    "d[4] = 500\n",
    "print(d)"
   ]
  },
  {
   "cell_type": "code",
   "execution_count": 20,
   "metadata": {},
   "outputs": [
    {
     "name": "stdout",
     "output_type": "stream",
     "text": [
      "{(0, 10): 0, (11, 20): 0, (21, 30): 0, (31, 40): 0, (41, 50): 0, (51, 60): 0, (61, 70): 0, (71, 80): 0, (81, 90): 0, (91, 100): 0}\n",
      "{(0, 10): 0, (11, 20): 0, (21, 30): 0, (31, 40): 0, (41, 50): 1, (51, 60): 0, (61, 70): 0, (71, 80): 0, (81, 90): 0, (91, 100): 0}\n"
     ]
    }
   ],
   "source": [
    "d = {}\n",
    "l1 = [0,11,21,31,41,51,61,71,81,91]\n",
    "l2 = [10,20,30,40,50,60,70,80,90,100]\n",
    "for value in zip(l1,l2):\n",
    "    d.setdefault(value,0)\n",
    "print(d)\n",
    "num1 = 45\n",
    "for key in d:\n",
    "    if num1 >key[0] and num1 < key[1]:\n",
    "        d[key]+=1\n",
    "print(d)"
   ]
  },
  {
   "cell_type": "code",
   "execution_count": 17,
   "metadata": {},
   "outputs": [
    {
     "name": "stdout",
     "output_type": "stream",
     "text": [
      "range(10, 101)\n"
     ]
    }
   ],
   "source": [
    "l = range(10,101)\n",
    "print(l)"
   ]
  },
  {
   "cell_type": "code",
   "execution_count": 2,
   "metadata": {},
   "outputs": [
    {
     "data": {
      "text/plain": [
       "[2, 3, 4]"
      ]
     },
     "execution_count": 2,
     "metadata": {},
     "output_type": "execute_result"
    }
   ],
   "source": [
    "sorted({2,4,3,2}) #takes any iterable data types and return a list"
   ]
  },
  {
   "cell_type": "code",
   "execution_count": null,
   "metadata": {},
   "outputs": [],
   "source": []
  }
 ],
 "metadata": {
  "kernelspec": {
   "display_name": "Python 3",
   "language": "python",
   "name": "python3"
  },
  "language_info": {
   "codemirror_mode": {
    "name": "ipython",
    "version": 3
   },
   "file_extension": ".py",
   "mimetype": "text/x-python",
   "name": "python",
   "nbconvert_exporter": "python",
   "pygments_lexer": "ipython3",
   "version": "3.7.0"
  }
 },
 "nbformat": 4,
 "nbformat_minor": 2
}
