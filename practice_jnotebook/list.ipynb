{
 "cells": [
  {
   "cell_type": "code",
   "execution_count": null,
   "metadata": {},
   "outputs": [],
   "source": [
    "list:\n",
    "    mutable   - add update and delete at same memory location\n",
    "    ordered   - support indexing and slicing\n",
    "    heterogenious\n",
    "    \n"
   ]
  },
  {
   "cell_type": "code",
   "execution_count": null,
   "metadata": {},
   "outputs": [],
   "source": [
    "add/update/delete\n",
    "\n",
    "add:\n",
    "    append  # doesn't return anything...can add only one value at a time\n",
    "    extend  # takes one iterable data type\n",
    "    insert  # can add 1 element at a time at specified index"
   ]
  },
  {
   "cell_type": "code",
   "execution_count": 1,
   "metadata": {},
   "outputs": [
    {
     "name": "stdout",
     "output_type": "stream",
     "text": [
      "['python', 'java', 'c', 'r']\n",
      "None\n"
     ]
    }
   ],
   "source": [
    "lst = ['python','java','c']\n",
    "r = lst.append('r')\n",
    "print(lst)\n",
    "print(r)"
   ]
  },
  {
   "cell_type": "code",
   "execution_count": 6,
   "metadata": {},
   "outputs": [
    {
     "name": "stdout",
     "output_type": "stream",
     "text": [
      "2286042059656\n",
      "['python', 'java', 'c', 'mongodb', 'nosql']\n",
      "2286042059656\n",
      "['python', 'java', 'c', 'mongodb', 'nosql', 'm', 'y', 's', 'q', 'l']\n",
      "2286042059656\n"
     ]
    }
   ],
   "source": [
    "lst = ['python','java','c']\n",
    "print(id(lst))\n",
    "lst.extend(['mongodb','nosql'])\n",
    "print(lst)\n",
    "print(id(lst))\n",
    "lst.extend('mysql')\n",
    "print(lst)\n",
    "print(id(lst))"
   ]
  },
  {
   "cell_type": "markdown",
   "metadata": {},
   "source": []
  },
  {
   "cell_type": "code",
   "execution_count": 10,
   "metadata": {},
   "outputs": [
    {
     "name": "stdout",
     "output_type": "stream",
     "text": [
      "[1, 2, 3, 4, 5, 6, 7, 8, 9]\n"
     ]
    }
   ],
   "source": [
    "l1 = [[1,2,3],[4,5,6],[7,8,9]]\n",
    "l2 = []\n",
    "for i in l1:\n",
    "    l2.extend(i)   # to add the iterable\n",
    "print(l2)"
   ]
  },
  {
   "cell_type": "code",
   "execution_count": 16,
   "metadata": {},
   "outputs": [
    {
     "name": "stdout",
     "output_type": "stream",
     "text": [
      "[[101, 202, 303], [404, 505, 606], [707, 808, 909]]\n"
     ]
    }
   ],
   "source": [
    "# matrix addition\n",
    "l1 = [[1,2,3],[4,5,6],[7,8,9]]\n",
    "l2 = [[100,200,300],[400,500,600],[700,800,900]]\n",
    "l3 = []\n",
    "\n",
    "for ind1 in range(len(l1)):\n",
    "    templst = []\n",
    "    for ind2 in range(len(lst)):\n",
    "        templst.append(l1[ind1][ind2] + l2[ind1][ind2])\n",
    "    l3.append(templst)\n",
    "print(l3)\n",
    "        "
   ]
  },
  {
   "cell_type": "code",
   "execution_count": 17,
   "metadata": {},
   "outputs": [
    {
     "name": "stdout",
     "output_type": "stream",
     "text": [
      "[100, 200, 250, 300]\n"
     ]
    }
   ],
   "source": [
    "l1 = [100,200,300]\n",
    "l1.insert(2,250)\n",
    "print(l1)"
   ]
  },
  {
   "cell_type": "code",
   "execution_count": null,
   "metadata": {},
   "outputs": [],
   "source": []
  }
 ],
 "metadata": {
  "kernelspec": {
   "display_name": "Python 3",
   "language": "python",
   "name": "python3"
  },
  "language_info": {
   "codemirror_mode": {
    "name": "ipython",
    "version": 3
   },
   "file_extension": ".py",
   "mimetype": "text/x-python",
   "name": "python",
   "nbconvert_exporter": "python",
   "pygments_lexer": "ipython3",
   "version": "3.7.0"
  }
 },
 "nbformat": 4,
 "nbformat_minor": 2
}
