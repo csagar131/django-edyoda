{
 "cells": [
  {
   "cell_type": "code",
   "execution_count": null,
   "metadata": {},
   "outputs": [],
   "source": [
    "list:\n",
    "    mutable   - add update and delete at same memory location\n",
    "    ordered   - support indexing and slicing\n",
    "    heterogenious\n",
    "    \n"
   ]
  },
  {
   "cell_type": "code",
   "execution_count": null,
   "metadata": {},
   "outputs": [],
   "source": [
    "add/update/delete\n",
    "\n",
    "add:\n",
    "    append  # doesn't return anything...can add only one value at a time\n",
    "    extend  # takes one iterable data type\n",
    "    insert  # can add 1 element at a time at specified index"
   ]
  },
  {
   "cell_type": "code",
   "execution_count": 1,
   "metadata": {},
   "outputs": [
    {
     "name": "stdout",
     "output_type": "stream",
     "text": [
      "['python', 'java', 'c', 'r']\n",
      "None\n"
     ]
    }
   ],
   "source": [
    "lst = ['python','java','c']\n",
    "r = lst.append('r')\n",
    "print(lst)\n",
    "print(r)"
   ]
  },
  {
   "cell_type": "code",
   "execution_count": 6,
   "metadata": {},
   "outputs": [
    {
     "name": "stdout",
     "output_type": "stream",
     "text": [
      "2286042059656\n",
      "['python', 'java', 'c', 'mongodb', 'nosql']\n",
      "2286042059656\n",
      "['python', 'java', 'c', 'mongodb', 'nosql', 'm', 'y', 's', 'q', 'l']\n",
      "2286042059656\n"
     ]
    }
   ],
   "source": [
    "lst = ['python','java','c']\n",
    "print(id(lst))\n",
    "lst.extend(['mongodb','nosql'])\n",
    "print(lst)\n",
    "print(id(lst))\n",
    "lst.extend('mysql')\n",
    "print(lst)\n",
    "print(id(lst))"
   ]
  },
  {
   "cell_type": "markdown",
   "metadata": {},
   "source": []
  },
  {
   "cell_type": "code",
   "execution_count": 10,
   "metadata": {},
   "outputs": [
    {
     "name": "stdout",
     "output_type": "stream",
     "text": [
      "[1, 2, 3, 4, 5, 6, 7, 8, 9]\n"
     ]
    }
   ],
   "source": [
    "l1 = [[1,2,3],[4,5,6],[7,8,9]]\n",
    "l2 = []\n",
    "for i in l1:\n",
    "    l2.extend(i)   # to add the iterable\n",
    "print(l2)"
   ]
  },
  {
   "cell_type": "code",
   "execution_count": 16,
   "metadata": {},
   "outputs": [
    {
     "name": "stdout",
     "output_type": "stream",
     "text": [
      "[[101, 202, 303], [404, 505, 606], [707, 808, 909]]\n"
     ]
    }
   ],
   "source": [
    "# matrix addition\n",
    "l1 = [[1,2,3],[4,5,6],[7,8,9]]\n",
    "l2 = [[100,200,300],[400,500,600],[700,800,900]]\n",
    "l3 = []\n",
    "\n",
    "for ind1 in range(len(l1)):\n",
    "    templst = []\n",
    "    for ind2 in range(len(lst)):\n",
    "        templst.append(l1[ind1][ind2] + l2[ind1][ind2])\n",
    "    l3.append(templst)\n",
    "print(l3)\n",
    "        "
   ]
  },
  {
   "cell_type": "code",
   "execution_count": 18,
   "metadata": {},
   "outputs": [
    {
     "name": "stdout",
     "output_type": "stream",
     "text": [
      "[100, 200, 250, 300]\n",
      "None\n"
     ]
    }
   ],
   "source": [
    "l1 = [100,200,300]\n",
    "k=l1.insert(2,250)  # doesn't return anything\n",
    "print(l1)\n",
    "print(k)"
   ]
  },
  {
   "cell_type": "code",
   "execution_count": null,
   "metadata": {},
   "outputs": [],
   "source": [
    "Delete:\n",
    "    pop(index)   # when indx is specified pop at index othrwise from last\n",
    "    remove(value)   # it doesn't return anything   \n",
    "    del       # to permanently remove the refernce so can't access it \n",
    "    clear    # to get the clearer list"
   ]
  },
  {
   "cell_type": "code",
   "execution_count": 19,
   "metadata": {},
   "outputs": [
    {
     "name": "stdout",
     "output_type": "stream",
     "text": [
      "['__add__', '__class__', '__contains__', '__delattr__', '__delitem__', '__dir__', '__doc__', '__eq__', '__format__', '__ge__', '__getattribute__', '__getitem__', '__gt__', '__hash__', '__iadd__', '__imul__', '__init__', '__init_subclass__', '__iter__', '__le__', '__len__', '__lt__', '__mul__', '__ne__', '__new__', '__reduce__', '__reduce_ex__', '__repr__', '__reversed__', '__rmul__', '__setattr__', '__setitem__', '__sizeof__', '__str__', '__subclasshook__', 'append', 'clear', 'copy', 'count', 'extend', 'index', 'insert', 'pop', 'remove', 'reverse', 'sort']\n"
     ]
    }
   ],
   "source": [
    "print(dir(list))"
   ]
  },
  {
   "cell_type": "code",
   "execution_count": null,
   "metadata": {},
   "outputs": [],
   "source": [
    "lst.sort()  #modify the original list\n",
    "lst.sort(reverse =  True)\n",
    "lst.index(value)\n",
    "lst.count()"
   ]
  },
  {
   "cell_type": "code",
   "execution_count": 20,
   "metadata": {},
   "outputs": [
    {
     "name": "stdout",
     "output_type": "stream",
     "text": [
      "2286042021640 2286042021640\n",
      "[10, 20, 30, 40]\n"
     ]
    }
   ],
   "source": [
    "# shallow copy\n",
    "l1 = [10,20,30]\n",
    "l2 =l1\n",
    "print(id(l1),id(l2))\n",
    "l1.append(40)\n",
    "print(l2)"
   ]
  },
  {
   "cell_type": "code",
   "execution_count": 22,
   "metadata": {},
   "outputs": [
    {
     "name": "stdout",
     "output_type": "stream",
     "text": [
      "2286042806984 2286043089864\n",
      "[10, 20, 30]\n"
     ]
    }
   ],
   "source": [
    "# deep copy\n",
    "\n",
    "l1 = [10,20,30]\n",
    "l2 = l1.copy()     #or list(l1)\n",
    "print(id(l1),id(l2))\n",
    "l1.append(40)\n",
    "print(l2)"
   ]
  },
  {
   "cell_type": "code",
   "execution_count": 26,
   "metadata": {},
   "outputs": [
    {
     "name": "stdout",
     "output_type": "stream",
     "text": [
      "[1, 2, 3, 4, 5, 6, 7]\n",
      "2286042660360\n",
      "2286042021128\n",
      "2286042806472\n"
     ]
    }
   ],
   "source": [
    "l1 = [1,2,3,4]\n",
    "l2 = [5,6,7]\n",
    "print(l1 + l2)   # extend modify the l1 if l1.extend(l2)\n",
    "print(id(l1+l2))\n",
    "print(id(l1))\n",
    "print(id(l2))\n",
    "\n"
   ]
  },
  {
   "cell_type": "code",
   "execution_count": null,
   "metadata": {},
   "outputs": [],
   "source": []
  },
  {
   "cell_type": "code",
   "execution_count": null,
   "metadata": {},
   "outputs": [],
   "source": []
  }
 ],
 "metadata": {
  "kernelspec": {
   "display_name": "Python 3",
   "language": "python",
   "name": "python3"
  },
  "language_info": {
   "codemirror_mode": {
    "name": "ipython",
    "version": 3
   },
   "file_extension": ".py",
   "mimetype": "text/x-python",
   "name": "python",
   "nbconvert_exporter": "python",
   "pygments_lexer": "ipython3",
   "version": "3.7.0"
  }
 },
 "nbformat": 4,
 "nbformat_minor": 2
}
