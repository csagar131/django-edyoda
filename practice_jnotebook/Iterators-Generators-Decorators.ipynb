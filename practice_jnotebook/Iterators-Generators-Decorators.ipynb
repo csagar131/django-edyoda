{
 "cells": [
  {
   "cell_type": "code",
   "execution_count": 2,
   "metadata": {},
   "outputs": [],
   "source": [
    "#iterators #used  when dealing with large amount of data 50000 and like rows in database\n",
    "# any object which support __iter__ and __next__ is iterator\n",
    "\n",
    "#iterator ---> to iterate from start to end\n",
    "# if an object support only iter method it can be converted to iterator\n",
    "# from iterator you can iterate only once"
   ]
  },
  {
   "cell_type": "code",
   "execution_count": 3,
   "metadata": {},
   "outputs": [
    {
     "name": "stdout",
     "output_type": "stream",
     "text": [
      "1\n",
      "2\n",
      "3\n",
      "4\n",
      "5\n"
     ]
    }
   ],
   "source": [
    "l = [1,2,3,4,5]\n",
    "i = iter(l)\n",
    "for value in i:\n",
    "    print(value)\n",
    "\n",
    "for value in i:\n",
    "    print(value)"
   ]
  },
  {
   "cell_type": "code",
   "execution_count": 4,
   "metadata": {},
   "outputs": [],
   "source": [
    "import itertools"
   ]
  },
  {
   "cell_type": "code",
   "execution_count": 6,
   "metadata": {},
   "outputs": [
    {
     "name": "stdout",
     "output_type": "stream",
     "text": [
      "1\n",
      "2\n",
      "---------\n",
      "3\n",
      "4\n",
      "5\n",
      "p\n",
      "y\n",
      "t\n",
      "h\n",
      "o\n",
      "n\n",
      ",\n",
      "j\n",
      "a\n",
      "v\n",
      "a\n",
      ",\n",
      "c\n",
      "1\n",
      "2\n",
      "3\n",
      "4\n",
      "5\n",
      "0\n",
      "1\n",
      "2\n",
      "3\n",
      "4\n"
     ]
    }
   ],
   "source": [
    "l1 = [1,2,3,4,5]\n",
    "s1 = 'python,java,c'\n",
    "t1 = (1,2,3,4,5)\n",
    "r1 = range(5)\n",
    "\n",
    "i = itertools.chain(l1,s1,t1,r1)\n",
    "\n",
    "print(next(i))\n",
    "print(next(i))\n",
    "print('---------')\n",
    "for value in i:\n",
    "    print(value)"
   ]
  },
  {
   "cell_type": "code",
   "execution_count": 8,
   "metadata": {},
   "outputs": [
    {
     "name": "stdout",
     "output_type": "stream",
     "text": [
      "(<itertools._tee object at 0x0000024C58903688>, <itertools._tee object at 0x0000024C58903808>, <itertools._tee object at 0x0000024C58903108>, <itertools._tee object at 0x0000024C58903288>, <itertools._tee object at 0x0000024C58903AC8>)\n",
      "1\n",
      "2\n",
      "3\n",
      "4\n",
      "5\n",
      "p\n",
      "y\n",
      "t\n",
      "h\n",
      "o\n",
      "n\n",
      ",\n",
      "j\n",
      "a\n",
      "v\n",
      "a\n",
      ",\n",
      "c\n",
      "1\n",
      "2\n",
      "3\n",
      "4\n",
      "5\n",
      "0\n",
      "1\n",
      "2\n",
      "3\n",
      "4\n"
     ]
    }
   ],
   "source": [
    "l1 = [1,2,3,4,5]\n",
    "s1 = 'python,java,c'\n",
    "t1 = (1,2,3,4,5)\n",
    "r1 = range(5)\n",
    "\n",
    "i = itertools.chain(l1,s1,t1,r1)\n",
    "t = itertools.tee(i,5)\n",
    "print(t)\n",
    "for value in t[0]:\n",
    "    print(value)\n",
    "for value in t[0]:\n",
    "    print(value)"
   ]
  },
  {
   "cell_type": "code",
   "execution_count": 11,
   "metadata": {},
   "outputs": [
    {
     "name": "stdout",
     "output_type": "stream",
     "text": [
      "3\n",
      "4\n",
      "5\n",
      "p\n",
      "y\n",
      "t\n",
      "h\n",
      "o\n"
     ]
    }
   ],
   "source": [
    "l1 = [1,2,3,4,5]\n",
    "s1 = 'python,java,c'\n",
    "t1 = (1,2,3,4,5)\n",
    "r1 = range(5)\n",
    "i = itertools.chain(l1,s1,t1)\n",
    "s = itertools.islice(i,2,10)\n",
    "for value in s:\n",
    "    print(value)"
   ]
  },
  {
   "cell_type": "code",
   "execution_count": 10,
   "metadata": {},
   "outputs": [
    {
     "name": "stdout",
     "output_type": "stream",
     "text": [
      "(1, 2)\n",
      "(1, 3)\n",
      "(1, 4)\n",
      "(1, 5)\n",
      "(1, 6)\n",
      "(2, 3)\n",
      "(2, 4)\n",
      "(2, 5)\n",
      "(2, 6)\n",
      "(3, 4)\n",
      "(3, 5)\n",
      "(3, 6)\n",
      "(4, 5)\n",
      "(4, 6)\n",
      "(5, 6)\n",
      "------permutations---------\n",
      "(1, 2)\n",
      "(1, 3)\n",
      "(1, 4)\n",
      "(1, 5)\n",
      "(1, 6)\n",
      "(2, 1)\n",
      "(2, 3)\n",
      "(2, 4)\n",
      "(2, 5)\n",
      "(2, 6)\n",
      "(3, 1)\n",
      "(3, 2)\n",
      "(3, 4)\n",
      "(3, 5)\n",
      "(3, 6)\n",
      "(4, 1)\n",
      "(4, 2)\n",
      "(4, 3)\n",
      "(4, 5)\n",
      "(4, 6)\n",
      "(5, 1)\n",
      "(5, 2)\n",
      "(5, 3)\n",
      "(5, 4)\n",
      "(5, 6)\n",
      "(6, 1)\n",
      "(6, 2)\n",
      "(6, 3)\n",
      "(6, 4)\n",
      "(6, 5)\n"
     ]
    }
   ],
   "source": [
    "l1 = [1,2,3,4,5,6]\n",
    "i1 = itertools.combinations(l1,2)\n",
    "i2 = itertools.permutations(l1,2)\n",
    "for value in i1:\n",
    "    print(value)\n",
    "print('------permutations---------')\n",
    "for value in i2:\n",
    "    print(value)"
   ]
  },
  {
   "cell_type": "code",
   "execution_count": 14,
   "metadata": {},
   "outputs": [
    {
     "name": "stdout",
     "output_type": "stream",
     "text": [
      "1\n",
      "2\n",
      "3\n",
      "4\n",
      "5\n",
      "1\n",
      "2\n",
      "3\n",
      "4\n",
      "5\n",
      "1\n",
      "2\n",
      "3\n",
      "4\n",
      "5\n",
      "1\n",
      "2\n",
      "3\n",
      "51\n"
     ]
    }
   ],
   "source": [
    "l1 = [1,2,3,4,5]\n",
    "i = itertools.cycle(l1)\n",
    "sum = 0\n",
    "for value in i:\n",
    "    print(value)\n",
    "    sum+=value\n",
    "    if sum >50:\n",
    "        print(sum)\n",
    "        break"
   ]
  },
  {
   "cell_type": "code",
   "execution_count": 16,
   "metadata": {},
   "outputs": [
    {
     "name": "stdout",
     "output_type": "stream",
     "text": [
      "[1, 2, 3, 4, 5]\n",
      "[1, 2, 3, 4, 5]\n",
      "[1, 2, 3, 4, 5]\n",
      "[1, 2, 3, 4, 5]\n",
      "[1, 2, 3, 4, 5]\n",
      "[1, 2, 3, 4, 5]\n",
      "[1, 2, 3, 4, 5]\n",
      "6\n"
     ]
    }
   ],
   "source": [
    "l1 = [1,2,3,4,5]\n",
    "i = itertools.repeat(l1)\n",
    "c = 0\n",
    "for value in i:\n",
    "    print(value)\n",
    "    if c > 5:\n",
    "        print(c)\n",
    "        break\n",
    "    c+=1"
   ]
  },
  {
   "cell_type": "code",
   "execution_count": 17,
   "metadata": {},
   "outputs": [],
   "source": [
    "# generator ---> special type of functions which maintains the state of whatever computation is done inside the function\n",
    "# or as a function working as iterators"
   ]
  },
  {
   "cell_type": "code",
   "execution_count": 5,
   "metadata": {},
   "outputs": [
    {
     "name": "stdout",
     "output_type": "stream",
     "text": [
      "0\n",
      "1\n",
      "1\n",
      "2\n",
      "3\n"
     ]
    }
   ],
   "source": [
    "def fibo():\n",
    "    num1 = 0\n",
    "    yield num1\n",
    "    num2 = 1\n",
    "    yield num2\n",
    "    \n",
    "    while True:\n",
    "        next_num = num1 + num2\n",
    "        yield next_num\n",
    "        num1,num2 = num2,next_num\n",
    "f = fibo()\n",
    "print(next(f))\n",
    "print(next(f))\n",
    "print(next(f))\n",
    "print(next(f))\n",
    "print(next(f))"
   ]
  },
  {
   "cell_type": "code",
   "execution_count": 8,
   "metadata": {},
   "outputs": [
    {
     "name": "stdout",
     "output_type": "stream",
     "text": [
      "[0, 1, 1, 2, 3]\n",
      "[5, 8, 13, 21, 34]\n",
      "[55, 89, 144, 233, 377]\n"
     ]
    }
   ],
   "source": [
    "def fibo():  # fibbonacci series\n",
    "    l = []\n",
    "    num1 = 0\n",
    "    num2 = 1\n",
    "    l.append(num1)\n",
    "    l.append(num2)\n",
    "    count = 2\n",
    "    while True:\n",
    "        next_num = num1 + num2\n",
    "        l.append(next_num)\n",
    "        count+=1\n",
    "        if count == 5:\n",
    "            yield l\n",
    "            count = 0\n",
    "            l = []\n",
    "        num1,num2 = num2,next_num\n",
    "\n",
    "f = fibo()\n",
    "print(next(f))\n",
    "print(next(f))\n",
    "print(next(f))"
   ]
  },
  {
   "cell_type": "code",
   "execution_count": 10,
   "metadata": {},
   "outputs": [
    {
     "name": "stdout",
     "output_type": "stream",
     "text": [
      "<generator object <genexpr> at 0x000002001EBC6390>\n",
      "[1, 4, 9, 16, 25, 36]\n"
     ]
    }
   ],
   "source": [
    "l1 = [1,2,3,4,5,6]\n",
    "l2 = (value*value for value in l1)\n",
    "print(l2)\n",
    "print(list(l2))"
   ]
  },
  {
   "cell_type": "code",
   "execution_count": null,
   "metadata": {},
   "outputs": [],
   "source": [
    "# decorators ----> a function which takes func as argument and return new function"
   ]
  },
  {
   "cell_type": "code",
   "execution_count": 11,
   "metadata": {},
   "outputs": [
    {
     "name": "stdout",
     "output_type": "stream",
     "text": [
      "3\n",
      "pythonjava\n",
      "10python\n"
     ]
    }
   ],
   "source": [
    "def add_deco(func):\n",
    "    def new_func(val1,val2):\n",
    "        if type(val1) == type(val2):\n",
    "            return func(val1,val2)\n",
    "        else:\n",
    "            return func(str(val1),str(val2))\n",
    "    return new_func\n",
    "\n",
    "@add_deco\n",
    "def add(val1,val2):\n",
    "    return val1+val2\n",
    "\n",
    "print(add(1,2))\n",
    "print(add('python','java'))\n",
    "print(add(10,'python'))"
   ]
  },
  {
   "cell_type": "code",
   "execution_count": 17,
   "metadata": {},
   "outputs": [
    {
     "name": "stdout",
     "output_type": "stream",
     "text": [
      "inside login\n",
      "inside login\n",
      "inside new_func\n",
      "invalid user\n"
     ]
    }
   ],
   "source": [
    "def login(func):\n",
    "    print(\"inside login\")\n",
    "    def new_func(uname,passwd):\n",
    "        print(\"inside new_func\")\n",
    "        if uname == \"suraj\" and passwd == \"srj\":\n",
    "            return func(uname,passwd)\n",
    "        else:\n",
    "            return \"invalid user\"\n",
    "    \n",
    "    return new_func\n",
    "\n",
    "@login\n",
    "def edit_name(uname,passwd):\n",
    "    print(\"inside edit name\")\n",
    "    return \"updated name\"\n",
    "\n",
    "@login\n",
    "def edit_email(uname,passwd):\n",
    "    print(\"inside edit email\")\n",
    "    return \"updated email\"\n",
    "\n",
    "print(edit_name('s uraj','srj'))"
   ]
  }
 ],
 "metadata": {
  "kernelspec": {
   "display_name": "Python 3",
   "language": "python",
   "name": "python3"
  },
  "language_info": {
   "codemirror_mode": {
    "name": "ipython",
    "version": 3
   },
   "file_extension": ".py",
   "mimetype": "text/x-python",
   "name": "python",
   "nbconvert_exporter": "python",
   "pygments_lexer": "ipython3",
   "version": "3.7.0"
  }
 },
 "nbformat": 4,
 "nbformat_minor": 2
}
