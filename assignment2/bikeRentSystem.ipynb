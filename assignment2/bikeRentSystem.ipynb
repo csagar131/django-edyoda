{
 "cells": [
  {
   "cell_type": "markdown",
   "metadata": {},
   "source": [
    "Implement a Bike Rental System with following features.\n",
    "\n",
    "Customers\n",
    "\n",
    "1 See available bikes on the shop\n",
    "2 Rent bikes on hourly basis $5 per hour.\n",
    "3 Rent bikes on daily basis $20 per day.\n",
    "4 Rent bikes on weekly basis $60 per week.\n",
    "5 Group Rental, a promotion that can include from 3 to 5 Rentals (of any type) with a discount of 30% of the total price\n",
    "\n",
    "\n",
    "Rental shops\n",
    "\n",
    "1 Issue a bill when customer decides to return the bike.\n",
    "2 Display available inventory\n",
    "3 Take requests on hourly, daily and weekly basis by cross verifying stock"
   ]
  },
  {
   "cell_type": "code",
   "execution_count": 10,
   "metadata": {},
   "outputs": [
    {
     "name": "stdout",
     "output_type": "stream",
     "text": [
      "Checking available bikes\n",
      "\n",
      "pulser ct-220 3\n",
      "honda activa 5\n",
      "hero splender 2\n"
     ]
    },
    {
     "data": {
      "text/plain": [
       "True"
      ]
     },
     "execution_count": 10,
     "metadata": {},
     "output_type": "execute_result"
    }
   ],
   "source": [
    "class Bikes:\n",
    "    bikelist = []\n",
    "    def __init__(self,name,model,count):\n",
    "        self.b_name = name\n",
    "        self.b_model = model\n",
    "        self.b_count = count\n",
    "        Bikes.bikelist.append(self)\n",
    "        \n",
    "        \n",
    "class Customer:\n",
    "    def __init__(self,name,email):\n",
    "        self.c_name = name\n",
    "        self.c_email = email\n",
    "        \n",
    "    def check_available_bikes(self):\n",
    "        return Bikes.bikelist\n",
    "    \n",
    "    def rent_bikes(self,bike,rentinfo,quantity):\n",
    "        self.rent_info = rentinfo\n",
    "        self.quantity = quantity\n",
    "        if bike in self.check_available_bikes() and bike.b_count >= quantity:\n",
    "            bike.b_count-= quantity\n",
    "            return True\n",
    "        else:\n",
    "            return False \n",
    "        \n",
    "    def return_bike(self,bike):\n",
    "        bike.b_count+= self.quantity\n",
    "        return [self.rent_info,self.quantity]\n",
    "        \n",
    "        \n",
    "        \n",
    "\n",
    "class Shop:\n",
    "    @classmethod\n",
    "    def issue_bill(cls):\n",
    "        \n",
    "        \n",
    "\n",
    "\n",
    "bike1 = Bikes('pulser','ct-220',3)\n",
    "bike2 = Bikes('honda','activa',5)\n",
    "bike3 = Bikes('hero','splender',2)\n",
    "\n",
    "\n",
    "customer1 = Customer('abc','abc@gmail.com')\n",
    "print(\"Checking available bikes\\n\")\n",
    "for bikes in customer1.check_available_bikes():\n",
    "    print(bikes.b_name,bikes.b_model,bikes.b_count)\n",
    "    \n",
    "\n",
    "customer1.rent_bikes(bike1,(1,\"hours\"),1)\n"
   ]
  },
  {
   "cell_type": "code",
   "execution_count": 12,
   "metadata": {},
   "outputs": [
    {
     "name": "stdout",
     "output_type": "stream",
     "text": [
      "{'b_name': 'pulser', 'b_model': 'ct-220', 'b_count': 2}\n"
     ]
    }
   ],
   "source": [
    "print(bike1.__dict__)"
   ]
  }
 ],
 "metadata": {
  "kernelspec": {
   "display_name": "Python 3",
   "language": "python",
   "name": "python3"
  },
  "language_info": {
   "codemirror_mode": {
    "name": "ipython",
    "version": 3
   },
   "file_extension": ".py",
   "mimetype": "text/x-python",
   "name": "python",
   "nbconvert_exporter": "python",
   "pygments_lexer": "ipython3",
   "version": "3.7.0"
  }
 },
 "nbformat": 4,
 "nbformat_minor": 2
}
